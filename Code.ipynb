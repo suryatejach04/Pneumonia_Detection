{
 "cells": [
  {
   "cell_type": "code",
   "execution_count": 43,
   "id": "8eddd5a3-38ea-4224-a724-b9d2be4c669f",
   "metadata": {},
   "outputs": [],
   "source": [
    "import os\n",
    "import shutil\n",
    "import random"
   ]
  },
  {
   "cell_type": "code",
   "execution_count": 10,
   "id": "e7f35876-1f7c-4d71-8216-ded2435bae31",
   "metadata": {},
   "outputs": [],
   "source": [
    "import tensorflow as tf\n",
    "from tensorflow.keras import layers\n",
    "from tensorflow.keras.preprocessing import image_dataset_from_directory\n",
    "import os\n",
    "import shutil\n",
    "import random"
   ]
  },
  {
   "cell_type": "code",
   "execution_count": 8,
   "id": "e3fd606a-c336-4308-90f5-a8bd46652116",
   "metadata": {},
   "outputs": [],
   "source": [
    "base_dir = r\"C:\\Users\\sriva\\Desktop\\surya - ml_cbp\\dataset\""
   ]
  },
  {
   "cell_type": "code",
   "execution_count": 30,
   "id": "818bdb77-67a6-4676-936a-8ccc2b2ff44f",
   "metadata": {},
   "outputs": [],
   "source": [
    "for split in ['train', 'val', 'test']:\n",
    "    split_dir = os.path.join(base_dir, split)\n",
    "    os.makedirs(split_dir, exist_ok=True)\n",
    "    os.makedirs(os.path.join(split_dir, 'Normal'), exist_ok=True)\n",
    "    os.makedirs(os.path.join(split_dir, 'Pneumonia'), exist_ok=True)"
   ]
  },
  {
   "cell_type": "code",
   "execution_count": 31,
   "id": "26d27cf9-d61e-4d41-9607-566c30c99283",
   "metadata": {},
   "outputs": [],
   "source": [
    "def split_data(base_dir, split_ratio=(0.85, 0.10, 0.05)):\n",
    "    categories = ['Normal', 'Pneumonia']\n",
    "    for category in categories:\n",
    "        category_dir = os.path.join(base_dir, category)\n",
    "        images = os.listdir(category_dir)\n",
    "        random.shuffle(images)\n",
    "        \n",
    "        total_images = len(images)\n",
    "        train_size = int(total_images * split_ratio[0])\n",
    "        val_size = int(total_images * split_ratio[1])\n",
    "        \n",
    "        train_images = images[:train_size]\n",
    "        val_images = images[train_size:train_size + val_size]\n",
    "        test_images = images[train_size + val_size:]\n",
    "\n",
    "        \n",
    "        for image in train_images:\n",
    "            shutil.copy(os.path.join(category_dir, image), os.path.join(base_dir, 'train', category, image))\n",
    "        for image in val_images:\n",
    "            shutil.copy(os.path.join(category_dir, image), os.path.join(base_dir, 'val', category, image))\n",
    "        for image in test_images:\n",
    "            shutil.copy(os.path.join(category_dir, image), os.path.join(base_dir, 'test', category, image))"
   ]
  },
  {
   "cell_type": "code",
   "execution_count": 32,
   "id": "509d5925-caab-43c5-b6d1-d3ce2beb0f9f",
   "metadata": {},
   "outputs": [],
   "source": [
    "split_data(base_dir)"
   ]
  },
  {
   "cell_type": "code",
   "execution_count": 34,
   "id": "4f18e5cc-54a8-457f-a987-53a91727834e",
   "metadata": {},
   "outputs": [
    {
     "name": "stdout",
     "output_type": "stream",
     "text": [
      "Found 4977 files belonging to 2 classes.\n"
     ]
    }
   ],
   "source": [
    "train_ds = tf.keras.preprocessing.image_dataset_from_directory(\n",
    "    train_dir,\n",
    "    image_size=(img_height, img_width),\n",
    "    batch_size=batch_size,\n",
    "    label_mode='int' \n",
    ")"
   ]
  },
  {
   "cell_type": "code",
   "execution_count": 35,
   "id": "5ab71c1b-e662-432f-8469-5929f246172d",
   "metadata": {},
   "outputs": [
    {
     "name": "stdout",
     "output_type": "stream",
     "text": [
      "Found 294 files belonging to 2 classes.\n"
     ]
    }
   ],
   "source": [
    "test_ds = tf.keras.preprocessing.image_dataset_from_directory(\n",
    "    test_dir,\n",
    "    image_size=(img_height, img_width),\n",
    "    batch_size=batch_size,\n",
    "    label_mode='int'\n",
    ")"
   ]
  },
  {
   "cell_type": "code",
   "execution_count": 36,
   "id": "7ab413a7-9f82-4f3d-b84e-b9d6b843f891",
   "metadata": {},
   "outputs": [
    {
     "name": "stdout",
     "output_type": "stream",
     "text": [
      "Found 585 files belonging to 2 classes.\n"
     ]
    }
   ],
   "source": [
    "val_ds = tf.keras.preprocessing.image_dataset_from_directory(\n",
    "    val_dir,\n",
    "    image_size=(img_height, img_width),\n",
    "    batch_size=batch_size,\n",
    "    label_mode='int'\n",
    ")"
   ]
  },
  {
   "cell_type": "code",
   "execution_count": 37,
   "id": "00d76c4e-e7d5-4eca-bbe7-fc4e06cc9207",
   "metadata": {},
   "outputs": [],
   "source": [
    "data_augmentation = tf.keras.Sequential([\n",
    "    layers.RandomFlip('horizontal'),\n",
    "    layers.RandomRotation(0.1),\n",
    "    layers.RandomZoom(0.1),\n",
    "])\n",
    "normalization_layer = layers.Rescaling(1./255)"
   ]
  },
  {
   "cell_type": "code",
   "execution_count": 38,
   "id": "5c07f919-f65d-4cc8-9277-77cecf8d865b",
   "metadata": {},
   "outputs": [
    {
     "name": "stdout",
     "output_type": "stream",
     "text": [
      "WARNING:tensorflow:Using a while_loop for converting RngReadAndSkip cause there is no registered converter for this op.\n",
      "WARNING:tensorflow:Using a while_loop for converting Bitcast cause there is no registered converter for this op.\n",
      "WARNING:tensorflow:Using a while_loop for converting Bitcast cause there is no registered converter for this op.\n",
      "WARNING:tensorflow:Using a while_loop for converting StatelessRandomUniformV2 cause there is no registered converter for this op.\n",
      "WARNING:tensorflow:Using a while_loop for converting ImageProjectiveTransformV3 cause there is no registered converter for this op.\n",
      "WARNING:tensorflow:Using a while_loop for converting RngReadAndSkip cause there is no registered converter for this op.\n",
      "WARNING:tensorflow:Using a while_loop for converting Bitcast cause there is no registered converter for this op.\n",
      "WARNING:tensorflow:Using a while_loop for converting Bitcast cause there is no registered converter for this op.\n",
      "WARNING:tensorflow:Using a while_loop for converting StatelessRandomUniformV2 cause there is no registered converter for this op.\n",
      "WARNING:tensorflow:Using a while_loop for converting ImageProjectiveTransformV3 cause there is no registered converter for this op.\n",
      "WARNING:tensorflow:Using a while_loop for converting RngReadAndSkip cause there is no registered converter for this op.\n",
      "WARNING:tensorflow:Using a while_loop for converting Bitcast cause there is no registered converter for this op.\n",
      "WARNING:tensorflow:Using a while_loop for converting Bitcast cause there is no registered converter for this op.\n",
      "WARNING:tensorflow:Using a while_loop for converting StatelessRandomUniformV2 cause there is no registered converter for this op.\n",
      "WARNING:tensorflow:Using a while_loop for converting ImageProjectiveTransformV3 cause there is no registered converter for this op.\n",
      "WARNING:tensorflow:Using a while_loop for converting RngReadAndSkip cause there is no registered converter for this op.\n",
      "WARNING:tensorflow:Using a while_loop for converting Bitcast cause there is no registered converter for this op.\n",
      "WARNING:tensorflow:Using a while_loop for converting Bitcast cause there is no registered converter for this op.\n",
      "WARNING:tensorflow:Using a while_loop for converting StatelessRandomUniformV2 cause there is no registered converter for this op.\n",
      "WARNING:tensorflow:Using a while_loop for converting ImageProjectiveTransformV3 cause there is no registered converter for this op.\n"
     ]
    }
   ],
   "source": [
    "train_ds = train_ds.map(lambda x, y: (data_augmentation(x, training=True), y))\n",
    "train_ds = train_ds.map(lambda x, y: (normalization_layer(x), y))\n",
    "val_ds = val_ds.map(lambda x, y: (normalization_layer(x), y))\n",
    "test_ds = test_ds.map(lambda x, y: (normalization_layer(x), y))"
   ]
  },
  {
   "cell_type": "code",
   "execution_count": 16,
   "id": "db1afffe-4b3f-4808-8cd2-78672efb919d",
   "metadata": {},
   "outputs": [],
   "source": [
    "train_dir = r\"C:\\Users\\sriva\\Desktop\\surya - ml_cbp\\dataset\\train\"\n",
    "val_dir = r\"C:\\Users\\sriva\\Desktop\\surya - ml_cbp\\dataset\\val\"\n",
    "test_dir = r\"C:\\Users\\sriva\\Desktop\\surya - ml_cbp\\dataset\\test\""
   ]
  },
  {
   "cell_type": "code",
   "execution_count": 80,
   "id": "8951ab76-93e4-4de0-87c1-1d0d25b87a48",
   "metadata": {},
   "outputs": [],
   "source": [
    "import os\n",
    "import cv2\n",
    "import numpy as np\n",
    "import pandas as pd\n",
    "from sklearn.svm import SVC\n",
    "from sklearn.ensemble import RandomForestClassifier\n",
    "from sklearn.ensemble import GradientBoostingClassifier\n",
    "from sklearn.preprocessing import LabelEncoder\n",
    "from sklearn.metrics import accuracy_score\n",
    "import matplotlib.pyplot as plt"
   ]
  },
  {
   "cell_type": "code",
   "execution_count": 49,
   "id": "4388031e-ad3f-4b54-993a-3320bba90d4a",
   "metadata": {},
   "outputs": [],
   "source": [
    "def extract_color_histogram(image_path):\n",
    "    image = cv2.imread(image_path)\n",
    "    if image is None:\n",
    "        return None\n",
    "    image = cv2.cvtColor(image, cv2.COLOR_BGR2RGB)\n",
    "    hist = cv2.calcHist([image], [0, 1, 2], None, [8, 8, 8], [0, 256, 0, 256, 0, 256])\n",
    "    hist = cv2.normalize(hist, hist).flatten()\n",
    "    return hist"
   ]
  },
  {
   "cell_type": "code",
   "execution_count": 50,
   "id": "70ac3699-f14e-4b3e-b8ea-35622e48a252",
   "metadata": {},
   "outputs": [],
   "source": [
    "def prepare_dataset(base_dir):\n",
    "    data = []\n",
    "    labels = []\n",
    "    for category in ['Normal', 'Pneumonia']:\n",
    "        category_dir = os.path.join(base_dir, category)\n",
    "        for file in os.listdir(category_dir):\n",
    "            file_path = os.path.join(category_dir, file)\n",
    "            features = extract_color_histogram(file_path)\n",
    "            if features is not None:\n",
    "                data.append(features)\n",
    "                labels.append(category)\n",
    "    return np.array(data), np.array(labels)"
   ]
  },
  {
   "cell_type": "code",
   "execution_count": 51,
   "id": "1ddb021e-1757-44a0-a88b-b28d6ecf4539",
   "metadata": {},
   "outputs": [
    {
     "name": "stdout",
     "output_type": "stream",
     "text": [
      "Train data shape: (4977, 512)\n",
      "Validation data shape: (585, 512)\n",
      "Test data shape: (294, 512)\n"
     ]
    }
   ],
   "source": [
    "train_data, train_labels = prepare_dataset(train_dir)\n",
    "val_data, val_labels = prepare_dataset(val_dir)\n",
    "test_data, test_labels = prepare_dataset(test_dir)\n",
    "\n",
    "print('Train data shape:', train_data.shape)\n",
    "print('Validation data shape:', val_data.shape)\n",
    "print('Test data shape:', test_data.shape)"
   ]
  },
  {
   "cell_type": "code",
   "execution_count": 52,
   "id": "aa384b56-f9e5-4e7f-9353-b3152e479ec0",
   "metadata": {},
   "outputs": [],
   "source": [
    "le = LabelEncoder()\n",
    "train_labels_encoded = le.fit_transform(train_labels)\n",
    "val_labels_encoded = le.transform(val_labels)\n",
    "test_labels_encoded = le.transform(test_labels)"
   ]
  },
  {
   "cell_type": "code",
   "execution_count": 53,
   "id": "f4b40942-f77c-4709-9acd-ef353e509af8",
   "metadata": {},
   "outputs": [
    {
     "data": {
      "text/html": [
       "<style>#sk-container-id-1 {color: black;}#sk-container-id-1 pre{padding: 0;}#sk-container-id-1 div.sk-toggleable {background-color: white;}#sk-container-id-1 label.sk-toggleable__label {cursor: pointer;display: block;width: 100%;margin-bottom: 0;padding: 0.3em;box-sizing: border-box;text-align: center;}#sk-container-id-1 label.sk-toggleable__label-arrow:before {content: \"▸\";float: left;margin-right: 0.25em;color: #696969;}#sk-container-id-1 label.sk-toggleable__label-arrow:hover:before {color: black;}#sk-container-id-1 div.sk-estimator:hover label.sk-toggleable__label-arrow:before {color: black;}#sk-container-id-1 div.sk-toggleable__content {max-height: 0;max-width: 0;overflow: hidden;text-align: left;background-color: #f0f8ff;}#sk-container-id-1 div.sk-toggleable__content pre {margin: 0.2em;color: black;border-radius: 0.25em;background-color: #f0f8ff;}#sk-container-id-1 input.sk-toggleable__control:checked~div.sk-toggleable__content {max-height: 200px;max-width: 100%;overflow: auto;}#sk-container-id-1 input.sk-toggleable__control:checked~label.sk-toggleable__label-arrow:before {content: \"▾\";}#sk-container-id-1 div.sk-estimator input.sk-toggleable__control:checked~label.sk-toggleable__label {background-color: #d4ebff;}#sk-container-id-1 div.sk-label input.sk-toggleable__control:checked~label.sk-toggleable__label {background-color: #d4ebff;}#sk-container-id-1 input.sk-hidden--visually {border: 0;clip: rect(1px 1px 1px 1px);clip: rect(1px, 1px, 1px, 1px);height: 1px;margin: -1px;overflow: hidden;padding: 0;position: absolute;width: 1px;}#sk-container-id-1 div.sk-estimator {font-family: monospace;background-color: #f0f8ff;border: 1px dotted black;border-radius: 0.25em;box-sizing: border-box;margin-bottom: 0.5em;}#sk-container-id-1 div.sk-estimator:hover {background-color: #d4ebff;}#sk-container-id-1 div.sk-parallel-item::after {content: \"\";width: 100%;border-bottom: 1px solid gray;flex-grow: 1;}#sk-container-id-1 div.sk-label:hover label.sk-toggleable__label {background-color: #d4ebff;}#sk-container-id-1 div.sk-serial::before {content: \"\";position: absolute;border-left: 1px solid gray;box-sizing: border-box;top: 0;bottom: 0;left: 50%;z-index: 0;}#sk-container-id-1 div.sk-serial {display: flex;flex-direction: column;align-items: center;background-color: white;padding-right: 0.2em;padding-left: 0.2em;position: relative;}#sk-container-id-1 div.sk-item {position: relative;z-index: 1;}#sk-container-id-1 div.sk-parallel {display: flex;align-items: stretch;justify-content: center;background-color: white;position: relative;}#sk-container-id-1 div.sk-item::before, #sk-container-id-1 div.sk-parallel-item::before {content: \"\";position: absolute;border-left: 1px solid gray;box-sizing: border-box;top: 0;bottom: 0;left: 50%;z-index: -1;}#sk-container-id-1 div.sk-parallel-item {display: flex;flex-direction: column;z-index: 1;position: relative;background-color: white;}#sk-container-id-1 div.sk-parallel-item:first-child::after {align-self: flex-end;width: 50%;}#sk-container-id-1 div.sk-parallel-item:last-child::after {align-self: flex-start;width: 50%;}#sk-container-id-1 div.sk-parallel-item:only-child::after {width: 0;}#sk-container-id-1 div.sk-dashed-wrapped {border: 1px dashed gray;margin: 0 0.4em 0.5em 0.4em;box-sizing: border-box;padding-bottom: 0.4em;background-color: white;}#sk-container-id-1 div.sk-label label {font-family: monospace;font-weight: bold;display: inline-block;line-height: 1.2em;}#sk-container-id-1 div.sk-label-container {text-align: center;}#sk-container-id-1 div.sk-container {/* jupyter's `normalize.less` sets `[hidden] { display: none; }` but bootstrap.min.css set `[hidden] { display: none !important; }` so we also need the `!important` here to be able to override the default hidden behavior on the sphinx rendered scikit-learn.org. See: https://github.com/scikit-learn/scikit-learn/issues/21755 */display: inline-block !important;position: relative;}#sk-container-id-1 div.sk-text-repr-fallback {display: none;}</style><div id=\"sk-container-id-1\" class=\"sk-top-container\"><div class=\"sk-text-repr-fallback\"><pre>SVC(kernel=&#x27;linear&#x27;)</pre><b>In a Jupyter environment, please rerun this cell to show the HTML representation or trust the notebook. <br />On GitHub, the HTML representation is unable to render, please try loading this page with nbviewer.org.</b></div><div class=\"sk-container\" hidden><div class=\"sk-item\"><div class=\"sk-estimator sk-toggleable\"><input class=\"sk-toggleable__control sk-hidden--visually\" id=\"sk-estimator-id-1\" type=\"checkbox\" checked><label for=\"sk-estimator-id-1\" class=\"sk-toggleable__label sk-toggleable__label-arrow\">SVC</label><div class=\"sk-toggleable__content\"><pre>SVC(kernel=&#x27;linear&#x27;)</pre></div></div></div></div></div>"
      ],
      "text/plain": [
       "SVC(kernel='linear')"
      ]
     },
     "execution_count": 53,
     "metadata": {},
     "output_type": "execute_result"
    }
   ],
   "source": [
    "svm = SVC(kernel='linear')\n",
    "svm.fit(train_data, train_labels_encoded)"
   ]
  },
  {
   "cell_type": "code",
   "execution_count": 73,
   "id": "b9fa4be5-08fa-48ae-8d71-7c4b6c8a84b8",
   "metadata": {},
   "outputs": [
    {
     "name": "stdout",
     "output_type": "stream",
     "text": [
      "Validation Accuracy: 0.846\n"
     ]
    }
   ],
   "source": [
    "val_predictions = svm.predict(val_data)\n",
    "val_accuracy_svc = accuracy_score(val_labels_encoded, val_predictions)\n",
    "print(f'Validation Accuracy: {val_accuracy_svc:.3f}')"
   ]
  },
  {
   "cell_type": "code",
   "execution_count": 74,
   "id": "ef9eb070-5657-4d10-a32d-407193c05170",
   "metadata": {},
   "outputs": [
    {
     "name": "stdout",
     "output_type": "stream",
     "text": [
      "Test Accuracy: 0.779\n"
     ]
    }
   ],
   "source": [
    "test_predictions = svm.predict(test_data)\n",
    "test_accuracy_svc = accuracy_score(test_labels_encoded, test_predictions)\n",
    "print(f'Test Accuracy: {test_accuracy_svc:.3f}')"
   ]
  },
  {
   "cell_type": "code",
   "execution_count": 57,
   "id": "57228e18-3ec2-40ef-8aa2-f0d7fd844dfd",
   "metadata": {},
   "outputs": [],
   "source": [
    "rf = RandomForestClassifier(n_estimators=100, random_state=42)"
   ]
  },
  {
   "cell_type": "code",
   "execution_count": 58,
   "id": "025c11e8-4827-4502-9e63-13d68b339842",
   "metadata": {},
   "outputs": [
    {
     "data": {
      "text/html": [
       "<style>#sk-container-id-2 {color: black;}#sk-container-id-2 pre{padding: 0;}#sk-container-id-2 div.sk-toggleable {background-color: white;}#sk-container-id-2 label.sk-toggleable__label {cursor: pointer;display: block;width: 100%;margin-bottom: 0;padding: 0.3em;box-sizing: border-box;text-align: center;}#sk-container-id-2 label.sk-toggleable__label-arrow:before {content: \"▸\";float: left;margin-right: 0.25em;color: #696969;}#sk-container-id-2 label.sk-toggleable__label-arrow:hover:before {color: black;}#sk-container-id-2 div.sk-estimator:hover label.sk-toggleable__label-arrow:before {color: black;}#sk-container-id-2 div.sk-toggleable__content {max-height: 0;max-width: 0;overflow: hidden;text-align: left;background-color: #f0f8ff;}#sk-container-id-2 div.sk-toggleable__content pre {margin: 0.2em;color: black;border-radius: 0.25em;background-color: #f0f8ff;}#sk-container-id-2 input.sk-toggleable__control:checked~div.sk-toggleable__content {max-height: 200px;max-width: 100%;overflow: auto;}#sk-container-id-2 input.sk-toggleable__control:checked~label.sk-toggleable__label-arrow:before {content: \"▾\";}#sk-container-id-2 div.sk-estimator input.sk-toggleable__control:checked~label.sk-toggleable__label {background-color: #d4ebff;}#sk-container-id-2 div.sk-label input.sk-toggleable__control:checked~label.sk-toggleable__label {background-color: #d4ebff;}#sk-container-id-2 input.sk-hidden--visually {border: 0;clip: rect(1px 1px 1px 1px);clip: rect(1px, 1px, 1px, 1px);height: 1px;margin: -1px;overflow: hidden;padding: 0;position: absolute;width: 1px;}#sk-container-id-2 div.sk-estimator {font-family: monospace;background-color: #f0f8ff;border: 1px dotted black;border-radius: 0.25em;box-sizing: border-box;margin-bottom: 0.5em;}#sk-container-id-2 div.sk-estimator:hover {background-color: #d4ebff;}#sk-container-id-2 div.sk-parallel-item::after {content: \"\";width: 100%;border-bottom: 1px solid gray;flex-grow: 1;}#sk-container-id-2 div.sk-label:hover label.sk-toggleable__label {background-color: #d4ebff;}#sk-container-id-2 div.sk-serial::before {content: \"\";position: absolute;border-left: 1px solid gray;box-sizing: border-box;top: 0;bottom: 0;left: 50%;z-index: 0;}#sk-container-id-2 div.sk-serial {display: flex;flex-direction: column;align-items: center;background-color: white;padding-right: 0.2em;padding-left: 0.2em;position: relative;}#sk-container-id-2 div.sk-item {position: relative;z-index: 1;}#sk-container-id-2 div.sk-parallel {display: flex;align-items: stretch;justify-content: center;background-color: white;position: relative;}#sk-container-id-2 div.sk-item::before, #sk-container-id-2 div.sk-parallel-item::before {content: \"\";position: absolute;border-left: 1px solid gray;box-sizing: border-box;top: 0;bottom: 0;left: 50%;z-index: -1;}#sk-container-id-2 div.sk-parallel-item {display: flex;flex-direction: column;z-index: 1;position: relative;background-color: white;}#sk-container-id-2 div.sk-parallel-item:first-child::after {align-self: flex-end;width: 50%;}#sk-container-id-2 div.sk-parallel-item:last-child::after {align-self: flex-start;width: 50%;}#sk-container-id-2 div.sk-parallel-item:only-child::after {width: 0;}#sk-container-id-2 div.sk-dashed-wrapped {border: 1px dashed gray;margin: 0 0.4em 0.5em 0.4em;box-sizing: border-box;padding-bottom: 0.4em;background-color: white;}#sk-container-id-2 div.sk-label label {font-family: monospace;font-weight: bold;display: inline-block;line-height: 1.2em;}#sk-container-id-2 div.sk-label-container {text-align: center;}#sk-container-id-2 div.sk-container {/* jupyter's `normalize.less` sets `[hidden] { display: none; }` but bootstrap.min.css set `[hidden] { display: none !important; }` so we also need the `!important` here to be able to override the default hidden behavior on the sphinx rendered scikit-learn.org. See: https://github.com/scikit-learn/scikit-learn/issues/21755 */display: inline-block !important;position: relative;}#sk-container-id-2 div.sk-text-repr-fallback {display: none;}</style><div id=\"sk-container-id-2\" class=\"sk-top-container\"><div class=\"sk-text-repr-fallback\"><pre>RandomForestClassifier(random_state=42)</pre><b>In a Jupyter environment, please rerun this cell to show the HTML representation or trust the notebook. <br />On GitHub, the HTML representation is unable to render, please try loading this page with nbviewer.org.</b></div><div class=\"sk-container\" hidden><div class=\"sk-item\"><div class=\"sk-estimator sk-toggleable\"><input class=\"sk-toggleable__control sk-hidden--visually\" id=\"sk-estimator-id-2\" type=\"checkbox\" checked><label for=\"sk-estimator-id-2\" class=\"sk-toggleable__label sk-toggleable__label-arrow\">RandomForestClassifier</label><div class=\"sk-toggleable__content\"><pre>RandomForestClassifier(random_state=42)</pre></div></div></div></div></div>"
      ],
      "text/plain": [
       "RandomForestClassifier(random_state=42)"
      ]
     },
     "execution_count": 58,
     "metadata": {},
     "output_type": "execute_result"
    }
   ],
   "source": [
    "rf.fit(train_data, train_labels_encoded)"
   ]
  },
  {
   "cell_type": "code",
   "execution_count": 68,
   "id": "ef3d2c72-1a7b-4f3e-8d92-67dcbe83e5d9",
   "metadata": {},
   "outputs": [
    {
     "name": "stdout",
     "output_type": "stream",
     "text": [
      "Random Forest Validation Accuracy: 0.892\n"
     ]
    }
   ],
   "source": [
    "val_predictions_rf = rf.predict(val_data)\n",
    "val_accuracy_rf = accuracy_score(val_labels_encoded, val_predictions_rf)\n",
    "print(f'Random Forest Validation Accuracy: {val_accuracy_rf:.3f}')"
   ]
  },
  {
   "cell_type": "code",
   "execution_count": 69,
   "id": "2717f27d-9257-4164-bfed-a68daa3fabf9",
   "metadata": {},
   "outputs": [
    {
     "name": "stdout",
     "output_type": "stream",
     "text": [
      "Random Forest Test Accuracy: 0.864\n"
     ]
    }
   ],
   "source": [
    "test_predictions_rf = rf.predict(test_data)\n",
    "test_accuracy_rf = accuracy_score(test_labels_encoded, test_predictions_rf)\n",
    "print(f'Random Forest Test Accuracy: {test_accuracy_rf:.3f}')"
   ]
  },
  {
   "cell_type": "code",
   "execution_count": 62,
   "id": "6b4a18ab-ee1a-46c5-aeda-599ee49ced49",
   "metadata": {},
   "outputs": [],
   "source": [
    "gb = GradientBoostingClassifier(n_estimators=100, learning_rate=0.1, random_state=42)"
   ]
  },
  {
   "cell_type": "code",
   "execution_count": 63,
   "id": "f7efdaea-b90c-4052-915e-fef1418872c4",
   "metadata": {},
   "outputs": [
    {
     "data": {
      "text/html": [
       "<style>#sk-container-id-3 {color: black;}#sk-container-id-3 pre{padding: 0;}#sk-container-id-3 div.sk-toggleable {background-color: white;}#sk-container-id-3 label.sk-toggleable__label {cursor: pointer;display: block;width: 100%;margin-bottom: 0;padding: 0.3em;box-sizing: border-box;text-align: center;}#sk-container-id-3 label.sk-toggleable__label-arrow:before {content: \"▸\";float: left;margin-right: 0.25em;color: #696969;}#sk-container-id-3 label.sk-toggleable__label-arrow:hover:before {color: black;}#sk-container-id-3 div.sk-estimator:hover label.sk-toggleable__label-arrow:before {color: black;}#sk-container-id-3 div.sk-toggleable__content {max-height: 0;max-width: 0;overflow: hidden;text-align: left;background-color: #f0f8ff;}#sk-container-id-3 div.sk-toggleable__content pre {margin: 0.2em;color: black;border-radius: 0.25em;background-color: #f0f8ff;}#sk-container-id-3 input.sk-toggleable__control:checked~div.sk-toggleable__content {max-height: 200px;max-width: 100%;overflow: auto;}#sk-container-id-3 input.sk-toggleable__control:checked~label.sk-toggleable__label-arrow:before {content: \"▾\";}#sk-container-id-3 div.sk-estimator input.sk-toggleable__control:checked~label.sk-toggleable__label {background-color: #d4ebff;}#sk-container-id-3 div.sk-label input.sk-toggleable__control:checked~label.sk-toggleable__label {background-color: #d4ebff;}#sk-container-id-3 input.sk-hidden--visually {border: 0;clip: rect(1px 1px 1px 1px);clip: rect(1px, 1px, 1px, 1px);height: 1px;margin: -1px;overflow: hidden;padding: 0;position: absolute;width: 1px;}#sk-container-id-3 div.sk-estimator {font-family: monospace;background-color: #f0f8ff;border: 1px dotted black;border-radius: 0.25em;box-sizing: border-box;margin-bottom: 0.5em;}#sk-container-id-3 div.sk-estimator:hover {background-color: #d4ebff;}#sk-container-id-3 div.sk-parallel-item::after {content: \"\";width: 100%;border-bottom: 1px solid gray;flex-grow: 1;}#sk-container-id-3 div.sk-label:hover label.sk-toggleable__label {background-color: #d4ebff;}#sk-container-id-3 div.sk-serial::before {content: \"\";position: absolute;border-left: 1px solid gray;box-sizing: border-box;top: 0;bottom: 0;left: 50%;z-index: 0;}#sk-container-id-3 div.sk-serial {display: flex;flex-direction: column;align-items: center;background-color: white;padding-right: 0.2em;padding-left: 0.2em;position: relative;}#sk-container-id-3 div.sk-item {position: relative;z-index: 1;}#sk-container-id-3 div.sk-parallel {display: flex;align-items: stretch;justify-content: center;background-color: white;position: relative;}#sk-container-id-3 div.sk-item::before, #sk-container-id-3 div.sk-parallel-item::before {content: \"\";position: absolute;border-left: 1px solid gray;box-sizing: border-box;top: 0;bottom: 0;left: 50%;z-index: -1;}#sk-container-id-3 div.sk-parallel-item {display: flex;flex-direction: column;z-index: 1;position: relative;background-color: white;}#sk-container-id-3 div.sk-parallel-item:first-child::after {align-self: flex-end;width: 50%;}#sk-container-id-3 div.sk-parallel-item:last-child::after {align-self: flex-start;width: 50%;}#sk-container-id-3 div.sk-parallel-item:only-child::after {width: 0;}#sk-container-id-3 div.sk-dashed-wrapped {border: 1px dashed gray;margin: 0 0.4em 0.5em 0.4em;box-sizing: border-box;padding-bottom: 0.4em;background-color: white;}#sk-container-id-3 div.sk-label label {font-family: monospace;font-weight: bold;display: inline-block;line-height: 1.2em;}#sk-container-id-3 div.sk-label-container {text-align: center;}#sk-container-id-3 div.sk-container {/* jupyter's `normalize.less` sets `[hidden] { display: none; }` but bootstrap.min.css set `[hidden] { display: none !important; }` so we also need the `!important` here to be able to override the default hidden behavior on the sphinx rendered scikit-learn.org. See: https://github.com/scikit-learn/scikit-learn/issues/21755 */display: inline-block !important;position: relative;}#sk-container-id-3 div.sk-text-repr-fallback {display: none;}</style><div id=\"sk-container-id-3\" class=\"sk-top-container\"><div class=\"sk-text-repr-fallback\"><pre>GradientBoostingClassifier(random_state=42)</pre><b>In a Jupyter environment, please rerun this cell to show the HTML representation or trust the notebook. <br />On GitHub, the HTML representation is unable to render, please try loading this page with nbviewer.org.</b></div><div class=\"sk-container\" hidden><div class=\"sk-item\"><div class=\"sk-estimator sk-toggleable\"><input class=\"sk-toggleable__control sk-hidden--visually\" id=\"sk-estimator-id-3\" type=\"checkbox\" checked><label for=\"sk-estimator-id-3\" class=\"sk-toggleable__label sk-toggleable__label-arrow\">GradientBoostingClassifier</label><div class=\"sk-toggleable__content\"><pre>GradientBoostingClassifier(random_state=42)</pre></div></div></div></div></div>"
      ],
      "text/plain": [
       "GradientBoostingClassifier(random_state=42)"
      ]
     },
     "execution_count": 63,
     "metadata": {},
     "output_type": "execute_result"
    }
   ],
   "source": [
    "gb.fit(train_data, train_labels_encoded)"
   ]
  },
  {
   "cell_type": "code",
   "execution_count": 70,
   "id": "2220a5f7-52b7-460a-8c18-a614d8444916",
   "metadata": {},
   "outputs": [
    {
     "name": "stdout",
     "output_type": "stream",
     "text": [
      "Gradient Boosting Validation Accuracy: 0.899\n"
     ]
    }
   ],
   "source": [
    "val_predictions_gb = gb.predict(val_data)\n",
    "val_accuracy_gb = accuracy_score(val_labels_encoded, val_predictions_gb)\n",
    "print(f'Gradient Boosting Validation Accuracy: {val_accuracy_gb:.3f}')"
   ]
  },
  {
   "cell_type": "code",
   "execution_count": 71,
   "id": "c57aa4fe-f10d-416f-8980-7def6aaeeefe",
   "metadata": {},
   "outputs": [
    {
     "name": "stdout",
     "output_type": "stream",
     "text": [
      "Gradient Boosting Test Accuracy: 0.867\n"
     ]
    }
   ],
   "source": [
    "test_predictions_gb = gb.predict(test_data)\n",
    "test_accuracy_gb = accuracy_score(test_labels_encoded, test_predictions_gb)\n",
    "print(f'Gradient Boosting Test Accuracy: {test_accuracy_gb:.3f}')"
   ]
  },
  {
   "cell_type": "code",
   "execution_count": 33,
   "id": "48fdded2-7c75-434f-aa05-d976a984aad9",
   "metadata": {},
   "outputs": [],
   "source": [
    "batch_size = 32\n",
    "img_height = 224\n",
    "img_width = 224"
   ]
  },
  {
   "cell_type": "code",
   "execution_count": 39,
   "id": "b4c328eb-2ca9-4a38-92c4-d0bdaabdff66",
   "metadata": {},
   "outputs": [],
   "source": [
    "AUTOTUNE = tf.data.AUTOTUNE\n",
    "\n",
    "train_ds = train_ds.cache().shuffle(1000).prefetch(buffer_size=AUTOTUNE)\n",
    "val_ds = val_ds.cache().prefetch(buffer_size=AUTOTUNE)\n",
    "test_ds = test_ds.cache().prefetch(buffer_size=AUTOTUNE)"
   ]
  },
  {
   "cell_type": "code",
   "execution_count": 40,
   "id": "69439e30-42dd-450d-9989-3c58a3bc31ad",
   "metadata": {},
   "outputs": [],
   "source": [
    "model = tf.keras.Sequential([\n",
    "    layers.Conv2D(32, (3, 3), activation='relu', input_shape=(img_height, img_width, 3)),\n",
    "    layers.MaxPooling2D((2, 2)),\n",
    "    layers.Conv2D(64, (3, 3), activation='relu'),\n",
    "    layers.MaxPooling2D((2, 2)),\n",
    "    layers.Conv2D(128, (3, 3), activation='relu'),\n",
    "    layers.MaxPooling2D((2, 2)),\n",
    "    layers.Flatten(),\n",
    "    layers.Dense(128, activation='relu'),\n",
    "    layers.Dense(1, activation='sigmoid') \n",
    "])\n",
    "\n",
    "model.compile(\n",
    "    optimizer='adam',\n",
    "    loss='binary_crossentropy',\n",
    "    metrics=['accuracy']\n",
    ")"
   ]
  },
  {
   "cell_type": "code",
   "execution_count": 41,
   "id": "55b55209-dfc8-4943-b233-5860af1f3bbf",
   "metadata": {},
   "outputs": [
    {
     "name": "stdout",
     "output_type": "stream",
     "text": [
      "Epoch 1/20\n",
      "156/156 [==============================] - 213s 1s/step - loss: 0.4713 - accuracy: 0.7969 - val_loss: 0.3387 - val_accuracy: 0.8530\n",
      "Epoch 2/20\n",
      "156/156 [==============================] - 177s 1s/step - loss: 0.2602 - accuracy: 0.8889 - val_loss: 0.2404 - val_accuracy: 0.8940\n",
      "Epoch 3/20\n",
      "156/156 [==============================] - 176s 1s/step - loss: 0.2069 - accuracy: 0.9158 - val_loss: 0.2081 - val_accuracy: 0.9231\n",
      "Epoch 4/20\n",
      "156/156 [==============================] - 178s 1s/step - loss: 0.1707 - accuracy: 0.9329 - val_loss: 0.2976 - val_accuracy: 0.8838\n",
      "Epoch 5/20\n",
      "156/156 [==============================] - 179s 1s/step - loss: 0.1218 - accuracy: 0.9514 - val_loss: 0.2156 - val_accuracy: 0.9299\n",
      "Epoch 6/20\n",
      "156/156 [==============================] - 187s 1s/step - loss: 0.1077 - accuracy: 0.9576 - val_loss: 0.2250 - val_accuracy: 0.9248\n",
      "Epoch 7/20\n",
      "156/156 [==============================] - 212s 1s/step - loss: 0.0879 - accuracy: 0.9662 - val_loss: 0.2937 - val_accuracy: 0.9094\n",
      "Epoch 8/20\n",
      "156/156 [==============================] - 169s 1s/step - loss: 0.0624 - accuracy: 0.9753 - val_loss: 0.4117 - val_accuracy: 0.9009\n",
      "Epoch 9/20\n",
      "156/156 [==============================] - 169s 1s/step - loss: 0.0485 - accuracy: 0.9811 - val_loss: 0.4144 - val_accuracy: 0.8974\n",
      "Epoch 10/20\n",
      "156/156 [==============================] - 173s 1s/step - loss: 0.0441 - accuracy: 0.9833 - val_loss: 0.3735 - val_accuracy: 0.9265\n",
      "Epoch 11/20\n",
      "156/156 [==============================] - 168s 1s/step - loss: 0.0262 - accuracy: 0.9914 - val_loss: 0.6239 - val_accuracy: 0.8923\n",
      "Epoch 12/20\n",
      "156/156 [==============================] - 167s 1s/step - loss: 0.0099 - accuracy: 0.9974 - val_loss: 0.5636 - val_accuracy: 0.9009\n",
      "Epoch 13/20\n",
      "156/156 [==============================] - 167s 1s/step - loss: 0.0110 - accuracy: 0.9968 - val_loss: 0.5685 - val_accuracy: 0.9145\n",
      "Epoch 14/20\n",
      "156/156 [==============================] - 168s 1s/step - loss: 0.0068 - accuracy: 0.9982 - val_loss: 0.6292 - val_accuracy: 0.9060\n",
      "Epoch 15/20\n",
      "156/156 [==============================] - 169s 1s/step - loss: 0.0224 - accuracy: 0.9930 - val_loss: 0.6189 - val_accuracy: 0.8803\n",
      "Epoch 16/20\n",
      "156/156 [==============================] - 168s 1s/step - loss: 0.0354 - accuracy: 0.9873 - val_loss: 0.5276 - val_accuracy: 0.8940\n",
      "Epoch 17/20\n",
      "156/156 [==============================] - 172s 1s/step - loss: 0.0198 - accuracy: 0.9948 - val_loss: 0.4805 - val_accuracy: 0.9299\n",
      "Epoch 18/20\n",
      "156/156 [==============================] - 172s 1s/step - loss: 0.0087 - accuracy: 0.9972 - val_loss: 0.6025 - val_accuracy: 0.9265\n",
      "Epoch 19/20\n",
      "156/156 [==============================] - 169s 1s/step - loss: 0.0032 - accuracy: 0.9992 - val_loss: 0.6524 - val_accuracy: 0.9214\n",
      "Epoch 20/20\n",
      "156/156 [==============================] - 166s 1s/step - loss: 2.2376e-04 - accuracy: 1.0000 - val_loss: 0.6321 - val_accuracy: 0.9179\n"
     ]
    }
   ],
   "source": [
    "history = model.fit(\n",
    "    train_ds,\n",
    "    validation_data=val_ds,\n",
    "    epochs=20\n",
    ")"
   ]
  },
  {
   "cell_type": "code",
   "execution_count": 75,
   "id": "14f523ee-13eb-438b-8932-427b300d9cd2",
   "metadata": {},
   "outputs": [
    {
     "name": "stdout",
     "output_type": "stream",
     "text": [
      "10/10 [==============================] - 2s 232ms/step - loss: 0.7217 - accuracy: 0.9286\n",
      "Test Accuracy: 0.9285714030265808\n"
     ]
    }
   ],
   "source": [
    "test_loss, test_accuracy_cnn = model.evaluate(test_ds)\n",
    "print(f\"Test Accuracy: {test_accuracy_cnn}\")"
   ]
  },
  {
   "cell_type": "code",
   "execution_count": 87,
   "id": "a95ad91e-11be-49d8-a17e-6afbf3416ec4",
   "metadata": {},
   "outputs": [
    {
     "name": "stdout",
     "output_type": "stream",
     "text": [
      "19/19 [==============================] - 5s 245ms/step - loss: 0.6321 - accuracy: 0.9179\n",
      "Validation Accuracy: 0.9179487228393555\n"
     ]
    }
   ],
   "source": [
    "val_loss, val_accuracy_cnn = model.evaluate(val_ds)\n",
    "print(f\"Validation Accuracy: {val_accuracy_cnn}\")"
   ]
  },
  {
   "cell_type": "code",
   "execution_count": 88,
   "id": "75ff300f-792e-4083-b800-aca69c768512",
   "metadata": {},
   "outputs": [],
   "source": [
    "accuracies = [test_accuracy_svc,test_accuracy_rf,test_accuracy_gb,test_accuracy_cnn]\n",
    "models = [\"Support Vector Classifier\",\"Random Forest\",\"Gradiant boost algorithm\",\"Convolution Neural Network\"]"
   ]
  },
  {
   "cell_type": "code",
   "execution_count": 89,
   "id": "08e915fe-a0f3-4b7e-96c1-a10aead50ddf",
   "metadata": {},
   "outputs": [
    {
     "data": {
      "image/png": "[encoded data removed]",
      "text/plain": [
       "<Figure size 1000x600 with 1 Axes>"
      ]
     },
     "metadata": {},
     "output_type": "display_data"
    }
   ],
   "source": [
    "plt.figure(figsize=(10, 6))\n",
    "plt.plot(models, accuracies, marker='o', linestyle='-', color='b', label='Test Accuracy')\n",
    "plt.xlabel('Models')\n",
    "plt.ylabel('Test Accuracy')\n",
    "plt.title('Improvement in Test Accuracies')\n",
    "plt.grid(True)\n",
    "plt.tight_layout()\n",
    "plt.legend()\n",
    "plt.show()"
   ]
  },
  {
   "cell_type": "code",
   "execution_count": null,
   "id": "84fc1ba0-19cd-4d5f-98a4-6e69987af8df",
   "metadata": {},
   "outputs": [],
   "source": []
  }
 ],
 "metadata": {
  "kernelspec": {
   "display_name": "Python 3 (ipykernel)",
   "language": "python",
   "name": "python3"
  },
  "language_info": {
   "codemirror_mode": {
    "name": "ipython",
    "version": 3
   },
   "file_extension": ".py",
   "mimetype": "text/x-python",
   "name": "python",
   "nbconvert_exporter": "python",
   "pygments_lexer": "ipython3",
   "version": "3.10.11"
  }
 },
 "nbformat": 4,
 "nbformat_minor": 5
}
